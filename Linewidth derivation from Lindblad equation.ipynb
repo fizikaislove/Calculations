{
 "cells": [
  {
   "cell_type": "code",
   "execution_count": 1,
   "metadata": {},
   "outputs": [],
   "source": [
    "import sympy\n",
    "import numpy as np"
   ]
  },
  {
   "cell_type": "markdown",
   "metadata": {},
   "source": [
    "# Linewidths from coherence and power \n",
    "The general form of the Master equation is given by\n",
    "$$\n",
    "\\frac{\\partial \\hat{\\rho}}{\\partial t} = -\\frac{i}{\\hbar}\\left[\\hat{H},\\hat{\\rho}\\right]+\\sum_i\\gamma_i\\left(\\hat{c}\\hat{\\rho}\\hat{c}^{\\dagger}-\\frac{1}{2}\\left(\\hat{c}^{\\dagger}\\hat{c}\\hat{\\rho}+\\hat{\\rho}\\hat{c}^{\\dagger}\\hat{c}\\right)\\right)\n",
    "$$\n",
    "We rewrite this stuff as"
   ]
  },
  {
   "cell_type": "markdown",
   "metadata": {},
   "source": [
    "$$\n",
    "\\frac{\\partial \\vec{\\rho}}{\\partial t} = \\hat{\\mathcal{L}}\\vec{\\rho},\n",
    "$$\n",
    "with the lindblad superoperator $\\hat{\\mathcal{L}}$ given by\n",
    "$$\\hat{\\mathcal{L}} = \n",
    "    \\left(-\\frac{i}{\\hbar}\n",
    "        \\left(\n",
    "            \\hat{I}\\otimes\\hat{H}^T-\n",
    "            \\hat{H}\\otimes\\hat{I}\n",
    "        \\right)\n",
    "   +\\sum\\limits_i\\left(\n",
    "       \\hat{C}_i^*\\otimes\\hat{C}-\n",
    "       \\frac{1}{2}\\left(\\hat{C}\\hat{C}^T\\otimes\\hat{I}+\n",
    "       \\hat{I}\\otimes\\hat{C}^T\\hat{C}\\right)\n",
    "   \\right)\n",
    "\\right) \n",
    "$$\n",
    "Important: maybe I missed a conjugation or two."
   ]
  },
  {
   "cell_type": "markdown",
   "metadata": {},
   "source": [
    "## Defining some helper functions to convert \\hat{H} and \\hat{C} to corresponding Lindblad superoperator parts."
   ]
  },
  {
   "cell_type": "code",
   "execution_count": 8,
   "metadata": {},
   "outputs": [],
   "source": [
    "def H2Liou(H):\n",
    "    L1 = np.kron(np.identity(H.shape[0]), H.T)\n",
    "    L2 = np.kron(H, np.identity(H.shape[0]))\n",
    "    return L2-L1\n",
    "def C2LSO(C):\n",
    "    CC = C.T@np.conj(C)\n",
    "    CC1 = np.kron(np.identity(CC.shape[0]), CC.T)\n",
    "    CC2 = np.kron(CC, np.identity(CC.shape[0]))\n",
    "    CC3 = np.kron(np.conj(C), C)\n",
    "    return CC3-(CC1+CC2)/2"
   ]
  },
  {
   "cell_type": "markdown",
   "metadata": {},
   "source": [
    "## defining symbols, Hamiltonian, collapse operators"
   ]
  },
  {
   "cell_type": "code",
   "execution_count": 11,
   "metadata": {},
   "outputs": [
    {
     "data": {
      "text/latex": [
       "$\\displaystyle \\left[\\begin{matrix}0 & \\frac{i Ω}{2} & - \\frac{i Ω}{2} & γ_{1}\\\\\\frac{i Ω}{2} & i Δ - \\frac{γ_{1}}{2} - γ_{ϕ} & 0 & - \\frac{i Ω}{2}\\\\- \\frac{i Ω}{2} & 0 & - i Δ - \\frac{γ_{1}}{2} - γ_{ϕ} & \\frac{i Ω}{2}\\\\0 & - \\frac{i Ω}{2} & \\frac{i Ω}{2} & - γ_{1}\\end{matrix}\\right]$"
      ],
      "text/plain": [
       "Matrix([\n",
       "[     0,             I*Ω/2,             -I*Ω/2,    γ_1],\n",
       "[ I*Ω/2, I*Δ - γ_1/2 - γ_ϕ,                  0, -I*Ω/2],\n",
       "[-I*Ω/2,                 0, -I*Δ - γ_1/2 - γ_ϕ,  I*Ω/2],\n",
       "[     0,            -I*Ω/2,              I*Ω/2,   -γ_1]])"
      ]
     },
     "execution_count": 11,
     "metadata": {},
     "output_type": "execute_result"
    }
   ],
   "source": [
    "Δ, Ω, γ1, γϕ = sympy.symbols('Δ, Ω, γ_1, γ_ϕ', real=True, positive=True)\n",
    "H = sympy.Matrix([[0, Ω/2],[Ω/2, Δ]])\n",
    "C_loss = sympy.Matrix([[0, sympy.sqrt(γ1)],[0, 0]])\n",
    "C_dephasing = sympy.Matrix([[sympy.sqrt(γϕ/2),0],[0,-sympy.sqrt(γϕ/2)]])\n",
    "\n",
    "\n",
    "Liou = sympy.nsimplify(H2Liou(H))\n",
    "Lind_loss = sympy.nsimplify(C2LSO(C_loss))\n",
    "Lind_dephasing = sympy.nsimplify(C2LSO(C_dephasing))\n",
    "\n",
    "Lindbladian = (-sympy.I*Liou+Lind_loss+Lind_dephasing).tomatrix()\n",
    "#Lindbladian = Lind_loss.tomatrix()\n",
    "Lindbladian"
   ]
  },
  {
   "cell_type": "markdown",
   "metadata": {},
   "source": [
    "## Transform to go to Pauli basis"
   ]
  },
  {
   "cell_type": "code",
   "execution_count": 12,
   "metadata": {},
   "outputs": [
    {
     "data": {
      "text/latex": [
       "$\\displaystyle \\left[\\begin{matrix}1 & 0 & 0 & 1\\\\0 & 1 & 1 & 0\\\\0 & i & - i & 0\\\\1 & 0 & 0 & -1\\end{matrix}\\right]$"
      ],
      "text/plain": [
       "Matrix([\n",
       "[1, 0,  0,  1],\n",
       "[0, 1,  1,  0],\n",
       "[0, I, -I,  0],\n",
       "[1, 0,  0, -1]])"
      ]
     },
     "execution_count": 12,
     "metadata": {},
     "output_type": "execute_result"
    }
   ],
   "source": [
    "# transform to Pauli\n",
    "si = [[1,0],[0,1]]\n",
    "sx = [[0,1],[1,0]]\n",
    "sy = [[0,-sympy.I],[sympy.I,0]]\n",
    "sz = [[1,0],[0,-1]]\n",
    "nq = 1\n",
    "import itertools\n",
    "T = np.zeros(Lindbladian.shape, dtype=object)\n",
    "for op_id, Π in enumerate(itertools.product(*([[si, sx, sy, sz]]*nq))):\n",
    "    T1 = [[1]]\n",
    "    for Π1 in Π:\n",
    "        T1 = np.kron(T1, Π1)\n",
    "    T[op_id, :] = np.conj(T1.ravel())\n",
    "T = sympy.nsimplify(sympy.Matrix(T))\n",
    "T"
   ]
  },
  {
   "cell_type": "code",
   "execution_count": 15,
   "metadata": {},
   "outputs": [
    {
     "data": {
      "text/latex": [
       "$\\displaystyle \\left[\\begin{matrix}0 & 0 & 0 & 0\\\\0 & - \\frac{γ_{1}}{2} - γ_{ϕ} & Δ & 0\\\\0 & - Δ & - \\frac{γ_{1}}{2} - γ_{ϕ} & - Ω\\\\γ_{1} & 0 & Ω & - γ_{1}\\end{matrix}\\right]$"
      ],
      "text/plain": [
       "Matrix([\n",
       "[  0,            0,            0,    0],\n",
       "[  0, -γ_1/2 - γ_ϕ,            Δ,    0],\n",
       "[  0,           -Δ, -γ_1/2 - γ_ϕ,   -Ω],\n",
       "[γ_1,            0,            Ω, -γ_1]])"
      ]
     },
     "execution_count": 15,
     "metadata": {},
     "output_type": "execute_result"
    }
   ],
   "source": [
    "Bloch_eq = sympy.simplify(T@Lindbladian@T.inv())\n",
    "Bloch_eq"
   ]
  },
  {
   "cell_type": "markdown",
   "metadata": {},
   "source": [
    "## Finding stationary state from nullspace of Bloch equations"
   ]
  },
  {
   "cell_type": "code",
   "execution_count": 16,
   "metadata": {
    "scrolled": true
   },
   "outputs": [
    {
     "data": {
      "text/latex": [
       "$\\displaystyle \\left[\\begin{matrix}1\\\\- \\frac{Δ Ω γ_{1}}{Ω^{2} γ_{2} + γ_{1} \\left(Δ^{2} + γ_{2}^{2}\\right)}\\\\- \\frac{Ω γ_{1} γ_{2}}{Ω^{2} γ_{2} + γ_{1} \\left(Δ^{2} + γ_{2}^{2}\\right)}\\\\\\frac{γ_{1} \\left(Δ^{2} + γ_{2}^{2}\\right)}{Ω^{2} γ_{2} + γ_{1} \\left(Δ^{2} + γ_{2}^{2}\\right)}\\end{matrix}\\right]$"
      ],
      "text/plain": [
       "Matrix([\n",
       "[                                                   1],\n",
       "[           -Δ*Ω*γ_1/(Ω**2*γ_2 + γ_1*(Δ**2 + γ_2**2))],\n",
       "[         -Ω*γ_1*γ_2/(Ω**2*γ_2 + γ_1*(Δ**2 + γ_2**2))],\n",
       "[γ_1*(Δ**2 + γ_2**2)/(Ω**2*γ_2 + γ_1*(Δ**2 + γ_2**2))]])"
      ]
     },
     "execution_count": 16,
     "metadata": {},
     "output_type": "execute_result"
    }
   ],
   "source": [
    "γ2 = sympy.Symbol('γ_2', real=True, positive=True)\n",
    "stationary_state_bloch = sympy.simplify(sympy.simplify(Bloch_eq.nullspace()[0]).subs({(γ1+2*γϕ):sympy.nsimplify(2)*γ2}))\n",
    "stationary_state_bloch = stationary_state_bloch/stationary_state_bloch[0]\n",
    "stationary_state_bloch"
   ]
  },
  {
   "cell_type": "markdown",
   "metadata": {},
   "source": [
    "## FWHM from the z-projection of the Bloch vector"
   ]
  },
  {
   "cell_type": "code",
   "execution_count": 18,
   "metadata": {},
   "outputs": [
    {
     "data": {
      "text/latex": [
       "$\\displaystyle \\frac{2 \\sqrt{γ_{2}} \\sqrt{Ω^{2} + γ_{1} γ_{2}}}{\\sqrt{γ_{1}}}$"
      ],
      "text/plain": [
       "2*sqrt(γ_2)*sqrt(Ω**2 + γ_1*γ_2)/sqrt(γ_1)"
      ]
     },
     "execution_count": 18,
     "metadata": {},
     "output_type": "execute_result"
    }
   ],
   "source": [
    "# spectrum FWHM\n",
    "n_ex = (-stationary_state_bloch[3]+1)/2\n",
    "sympy.simplify(n_ex)\n",
    "n_ex_max = n_ex.subs({Δ:0})\n",
    "solutions = sympy.solveset(n_ex-n_ex_max/2, Δ)\n",
    "FWHM = max(solutions)-min(solutions)\n",
    "FWHM "
   ]
  },
  {
   "cell_type": "code",
   "execution_count": null,
   "metadata": {},
   "outputs": [],
   "source": []
  }
 ],
 "metadata": {
  "kernelspec": {
   "display_name": "Python 3",
   "language": "python",
   "name": "python3"
  },
  "language_info": {
   "codemirror_mode": {
    "name": "ipython",
    "version": 3
   },
   "file_extension": ".py",
   "mimetype": "text/x-python",
   "name": "python",
   "nbconvert_exporter": "python",
   "pygments_lexer": "ipython3",
   "version": "3.6.9"
  },
  "toc": {
   "base_numbering": 1,
   "nav_menu": {},
   "number_sections": true,
   "sideBar": true,
   "skip_h1_title": false,
   "title_cell": "Table of Contents",
   "title_sidebar": "Contents",
   "toc_cell": false,
   "toc_position": {},
   "toc_section_display": true,
   "toc_window_display": false
  }
 },
 "nbformat": 4,
 "nbformat_minor": 2
}
