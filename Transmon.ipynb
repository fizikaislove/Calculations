{
 "cells": [
  {
   "cell_type": "markdown",
   "metadata": {},
   "source": [
    "## Constants"
   ]
  },
  {
   "cell_type": "code",
   "execution_count": 1,
   "metadata": {},
   "outputs": [],
   "source": [
    "import numpy as np\n",
    "from scipy.constants import hbar,h,e,c\n",
    "F0=2.0678e-15"
   ]
  },
  {
   "cell_type": "code",
   "execution_count": 2,
   "metadata": {},
   "outputs": [],
   "source": [
    "e_eff=(11.45+1)/2## for all calculations"
   ]
  },
  {
   "cell_type": "code",
   "execution_count": 3,
   "metadata": {},
   "outputs": [],
   "source": [
    "Mhz=(2*np.pi*1e6)## divide on it to obtain value in mhz"
   ]
  },
  {
   "cell_type": "markdown",
   "metadata": {},
   "source": [
    "## Resonator properties"
   ]
  },
  {
   "cell_type": "markdown",
   "metadata": {},
   "source": [
    "$$\\kappa = \\frac{\\omega_r}{2Q}=\\frac{\\pi f_r}{Q}$$ in radians per second and the envelope of oscillation decays proportional to $$e^{-\\kappa t} $$  for energy multiply by two ( in comparison with Koch paper, i found kappa should be calculated for energy relaxation)\n"
   ]
  },
  {
   "cell_type": "code",
   "execution_count": 4,
   "metadata": {},
   "outputs": [
    {
     "data": {
      "text/plain": [
       "(146.91225516174953, 1.0833333333333335)"
      ]
     },
     "execution_count": 4,
     "metadata": {},
     "output_type": "execute_result"
    }
   ],
   "source": [
    "fr=6.5e9\n",
    "Q=6000\n",
    "k=2*np.pi*fr/Q \n",
    "1/k*1e9 , k/Mhz"
   ]
  },
  {
   "cell_type": "markdown",
   "metadata": {},
   "source": [
    "### frequency shift due to end capacitance"
   ]
  },
  {
   "cell_type": "code",
   "execution_count": 26,
   "metadata": {},
   "outputs": [
    {
     "data": {
      "text/plain": [
       "(45.70146, 0.2912776290630975)"
      ]
     },
     "execution_count": 26,
     "metadata": {},
     "output_type": "execute_result"
    }
   ],
   "source": [
    "# Cclaw=52e-3#pF\n",
    "Cclaw=7.3416e-3*e_eff#pF\n",
    "Cl_r=156.9#pF/m\n",
    "Leff_add=Cclaw/Cl_r\n",
    "Cclaw*1e3,Leff_add*1e3 ## add it to open end"
   ]
  },
  {
   "cell_type": "markdown",
   "metadata": {},
   "source": [
    "### coupling between resonator and qubit"
   ]
  },
  {
   "cell_type": "code",
   "execution_count": 6,
   "metadata": {},
   "outputs": [
    {
     "data": {
      "text/plain": [
       "(2.2758599999999998, 115.53599999999999, 49.39319283169143)"
      ]
     },
     "execution_count": 6,
     "metadata": {},
     "output_type": "execute_result"
    }
   ],
   "source": [
    "fq=4.1e9\n",
    "Zr=50\n",
    "Ccr=0.3656e-15*e_eff\n",
    "Cq=18.56e-15*e_eff\n",
    "Cr=1/(2*np.pi*fr*Zr)\n",
    "g=2*np.pi*Ccr/np.sqrt(Cr*Cq)*np.sqrt(fr*fq)\n",
    "Ccr*1e15,Cq*1e15,g/Mhz"
   ]
  },
  {
   "cell_type": "markdown",
   "metadata": {},
   "source": [
    "### dispersion shift"
   ]
  },
  {
   "cell_type": "code",
   "execution_count": 7,
   "metadata": {},
   "outputs": [
    {
     "data": {
      "text/plain": [
       "1.0165364575452722"
      ]
     },
     "execution_count": 7,
     "metadata": {},
     "output_type": "execute_result"
    }
   ],
   "source": [
    "fq=4.1e9\n",
    "hi=g**2/(2*np.pi*(fr-fq))\n",
    "hi/Mhz"
   ]
  },
  {
   "cell_type": "markdown",
   "metadata": {},
   "source": [
    "### Purcell rate"
   ]
  },
  {
   "cell_type": "code",
   "execution_count": 8,
   "metadata": {},
   "outputs": [
    {
     "data": {
      "text/plain": [
       "346.8536812143759"
      ]
     },
     "execution_count": 8,
     "metadata": {},
     "output_type": "execute_result"
    }
   ],
   "source": [
    "T=(1/k)*(2*np.pi*(fq-fr)/g)**2\n",
    "T*1e6"
   ]
  },
  {
   "cell_type": "markdown",
   "metadata": {},
   "source": [
    "## Qubit Frequencies"
   ]
  },
  {
   "cell_type": "code",
   "execution_count": 9,
   "metadata": {},
   "outputs": [],
   "source": [
    "def I(f,Ec):\n",
    "    Ej=Ejf(f,Ec)\n",
    "    I=Ej*2*np.pi/F0*h*1e18\n",
    "    return I\n",
    "def Ejf(f,Ec):\n",
    "    Ej=(f+Ec)**2/(8*Ec)\n",
    "    return Ej\n",
    "def Eji(I):\n",
    "    return I*F0/(2*np.pi)/1e9/h/1e9\n",
    "def f(Ej,Ec):\n",
    "    return np.sqrt(8*Ej*Ec)-Ec\n",
    "def Ec(C):\n",
    "    return e**2/(2*C)/h/1e9"
   ]
  },
  {
   "cell_type": "code",
   "execution_count": 10,
   "metadata": {},
   "outputs": [],
   "source": [
    "j=0.5e-3"
   ]
  },
  {
   "cell_type": "code",
   "execution_count": 11,
   "metadata": {},
   "outputs": [
    {
     "data": {
      "text/plain": [
       "0.1676553570060545"
      ]
     },
     "execution_count": 11,
     "metadata": {},
     "output_type": "execute_result"
    }
   ],
   "source": [
    "Ec(Cq)"
   ]
  },
  {
   "cell_type": "code",
   "execution_count": 13,
   "metadata": {},
   "outputs": [
    {
     "data": {
      "text/plain": [
       "0.1676553570060545"
      ]
     },
     "execution_count": 13,
     "metadata": {},
     "output_type": "execute_result"
    }
   ],
   "source": [
    "# f1=4.5\n",
    "# f2=4.7\n",
    "fmin=4.1\n",
    "fmax=4.8\n",
    "E_c=Ec(Cq)\n",
    "E_c"
   ]
  },
  {
   "cell_type": "code",
   "execution_count": 14,
   "metadata": {},
   "outputs": [
    {
     "data": {
      "text/plain": [
       "(13.579108484380816, 18.399054007784983)"
      ]
     },
     "execution_count": 14,
     "metadata": {},
     "output_type": "execute_result"
    }
   ],
   "source": [
    "Ejf(fmin,E_c),Ejf(fmax,E_c)"
   ]
  },
  {
   "cell_type": "code",
   "execution_count": 15,
   "metadata": {},
   "outputs": [
    {
     "data": {
      "text/plain": [
       "(32.19221569463407, 4.852208939892218)"
      ]
     },
     "execution_count": 15,
     "metadata": {},
     "output_type": "execute_result"
    }
   ],
   "source": [
    "(I(fmin,E_c)+I(fmax,E_c))/2,(I(fmax,E_c)-I(fmin,E_c))/2"
   ]
  },
  {
   "cell_type": "code",
   "execution_count": 17,
   "metadata": {},
   "outputs": [
    {
     "data": {
      "text/plain": [
       "(257.5377255570726, 97.04417879784437)"
      ]
     },
     "execution_count": 17,
     "metadata": {},
     "output_type": "execute_result"
    }
   ],
   "source": [
    "(I(fmin,E_c)+I(fmax,E_c))/2/j/250,(I(fmax,E_c)-I(fmin,E_c))/2/j/100"
   ]
  },
  {
   "cell_type": "markdown",
   "metadata": {},
   "source": [
    "### Real critical current"
   ]
  },
  {
   "cell_type": "code",
   "execution_count": 18,
   "metadata": {},
   "outputs": [],
   "source": [
    "# Sl=200*215\n",
    "# Sr=200*234\n",
    "S2=250*257\n",
    "S1=100*97"
   ]
  },
  {
   "cell_type": "code",
   "execution_count": 19,
   "metadata": {},
   "outputs": [
    {
     "data": {
      "text/plain": [
       "(4.8500000000000005, 32.125)"
      ]
     },
     "execution_count": 19,
     "metadata": {},
     "output_type": "execute_result"
    }
   ],
   "source": [
    "# Il=j*Sl\n",
    "# Ir=j*Sr\n",
    "I1=j*S1\n",
    "I2=j*S2\n",
    "I1,I2"
   ]
  },
  {
   "cell_type": "code",
   "execution_count": 20,
   "metadata": {},
   "outputs": [
    {
     "data": {
      "text/plain": [
       "(4.094923345589808, 4.795342897134172)"
      ]
     },
     "execution_count": 20,
     "metadata": {},
     "output_type": "execute_result"
    }
   ],
   "source": [
    "f(Eji(I2-I1),Ec(Cq)),f(Eji(I1+I2),Ec(Cq))"
   ]
  },
  {
   "cell_type": "markdown",
   "metadata": {},
   "source": [
    "### coupling between qubits"
   ]
  },
  {
   "cell_type": "code",
   "execution_count": 22,
   "metadata": {},
   "outputs": [
    {
     "data": {
      "text/plain": [
       "62.781250000000014"
      ]
     },
     "execution_count": 22,
     "metadata": {},
     "output_type": "execute_result"
    }
   ],
   "source": [
    "fq1=4.1e9\n",
    "fq2=fq1\n",
    "Ccq1=0.2842e-15*e_eff# for d=5mkm\n",
    "Ccq2=0.2842e-15*e_eff# for d=30mkm\n",
    "Cq1=Cq\n",
    "Cq2=Cq1\n",
    "g1=2*np.pi*Ccq1/np.sqrt(Cq1*Cq2)*np.sqrt(fq1*fq2)\n",
    "g2=2*np.pi*Ccq2/np.sqrt(Cq1*Cq2)*np.sqrt(fq1*fq2)\n",
    "g1/Mhz,g2/Mhz"
   ]
  },
  {
   "cell_type": "markdown",
   "metadata": {},
   "source": [
    "### Qubit-drive relaxation"
   ]
  },
  {
   "cell_type": "code",
   "execution_count": 56,
   "metadata": {},
   "outputs": [
    {
     "data": {
      "text/plain": [
       "5733.822083124015"
      ]
     },
     "execution_count": 56,
     "metadata": {},
     "output_type": "execute_result"
    }
   ],
   "source": [
    "Cc=0.0056716e-15*e_eff\n",
    "Cc=60e-18\n",
    "Cq=81e-15\n",
    "w=5e9# in Ghz\n",
    "Z=50\n",
    "# R=1/((w*Cc)**2)/Z\n",
    "T1=(Cc+Cq)/(Z*(w*w*Cc*Cc)*np.pi)\n",
    "T1*1e6#in mcs"
   ]
  },
  {
   "cell_type": "markdown",
   "metadata": {},
   "source": [
    "## For two-qubit gates"
   ]
  },
  {
   "cell_type": "code",
   "execution_count": null,
   "metadata": {},
   "outputs": [],
   "source": [
    "w_1=f\n",
    "w_2=6.51e3\n",
    "w_c=7.026e3\n",
    "g=70\n",
    "J=(g**2/2)*(1/(w_c-w_1)+1/(w_c-w_2))\n",
    "delta=0.265*1e3\n",
    "delta12=np.abs(w_2-w_1)\n",
    "zz=-2*(2*delta)/((delta12-delta)*(delta12+delta))*J**2\n",
    "zx = J/delta12*delta/(delta+delta12)\n",
    "def coupl(w_c):\n",
    "  w_1=7.01e3\n",
    "  w_2=6.516e3\n",
    "  g=70\n",
    "  J=(g**2/2)*(1/(w_c-w_1)+1/(w_c-w_2))\n",
    "  delta=0.265*1e3\n",
    "  delta12=np.abs(w_2-w_1)\n",
    "  zz=-2*(2*delta)/((delta12-delta)*(delta12+delta))*J**2\n",
    "  zx = J/delta12*delta/(delta+delta12)\n",
    "  return J,zz,zx\n",
    "J,zx,zz"
   ]
  },
  {
   "cell_type": "code",
   "execution_count": null,
   "metadata": {},
   "outputs": [],
   "source": []
  }
 ],
 "metadata": {
  "kernelspec": {
   "display_name": "Python 3",
   "language": "python",
   "name": "python3"
  },
  "language_info": {
   "codemirror_mode": {
    "name": "ipython",
    "version": 3
   },
   "file_extension": ".py",
   "mimetype": "text/x-python",
   "name": "python",
   "nbconvert_exporter": "python",
   "pygments_lexer": "ipython3",
   "version": "3.7.3"
  }
 },
 "nbformat": 4,
 "nbformat_minor": 2
}
