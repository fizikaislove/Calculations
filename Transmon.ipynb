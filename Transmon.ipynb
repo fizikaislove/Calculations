{
 "cells": [
  {
   "cell_type": "code",
   "execution_count": 1,
   "metadata": {},
   "outputs": [],
   "source": [
    "import numpy as np\n",
    "from scipy.constants import hbar,h,e,c\n",
    "F0=2.0678e-15\n",
    "def I(f,Ec):\n",
    "    Ej=Ejf(f,Ec)\n",
    "    I=Ej*2*np.pi/F0*h*1e18\n",
    "    return I\n",
    "def Ejf(f,Ec):\n",
    "    Ej=(f+Ec)**2/(8*Ec)\n",
    "    return Ej\n",
    "def Eji(I):\n",
    "    return I*F0/(2*np.pi)/1e9/h/1e9\n",
    "def f(Ej,Ec):\n",
    "    return np.sqrt(8*Ej*Ec)-Ec"
   ]
  },
  {
   "cell_type": "code",
   "execution_count": 54,
   "metadata": {},
   "outputs": [],
   "source": [
    "e_eff=(11.45+1)/2## for all calculations"
   ]
  },
  {
   "cell_type": "markdown",
   "metadata": {},
   "source": [
    "## Resonator properties"
   ]
  },
  {
   "cell_type": "code",
   "execution_count": 55,
   "metadata": {},
   "outputs": [],
   "source": [
    "Mhz=(2*np.pi*1e6)"
   ]
  },
  {
   "cell_type": "code",
   "execution_count": 56,
   "metadata": {},
   "outputs": [
    {
     "data": {
      "text/plain": [
       "1.625"
      ]
     },
     "execution_count": 56,
     "metadata": {},
     "output_type": "execute_result"
    }
   ],
   "source": [
    "fr=6.5e9\n",
    "Q=2000\n",
    "k=np.pi*fr/Q #amplitude\n",
    "k/Mhz"
   ]
  },
  {
   "cell_type": "code",
   "execution_count": 39,
   "metadata": {},
   "outputs": [
    {
     "data": {
      "text/plain": [
       "0.3182374541003672"
      ]
     },
     "execution_count": 39,
     "metadata": {},
     "output_type": "execute_result"
    }
   ],
   "source": [
    "Cclaw=52e-3#pF\n",
    "Cl_r=163.4#pF/m\n",
    "Leff_add=Cclaw/Cl_r\n",
    "Leff_add*1e3"
   ]
  },
  {
   "cell_type": "code",
   "execution_count": 45,
   "metadata": {},
   "outputs": [],
   "source": [
    "fq=4.5e9"
   ]
  },
  {
   "cell_type": "code",
   "execution_count": 57,
   "metadata": {},
   "outputs": [
    {
     "data": {
      "text/plain": [
       "85.58356326398496"
      ]
     },
     "execution_count": 57,
     "metadata": {},
     "output_type": "execute_result"
    }
   ],
   "source": [
    "Zr=50\n",
    "Ccr=3.1125e-15\n",
    "Cq=79e-15\n",
    "Cr=1/(2*np.pi*fr*Zr)\n",
    "g=2*np.pi*Ccr/np.sqrt(Cr*Cq)*np.sqrt(fr*fq)\n",
    "g/Mhz"
   ]
  },
  {
   "cell_type": "code",
   "execution_count": 58,
   "metadata": {},
   "outputs": [
    {
     "data": {
      "text/plain": [
       "3.662273150480256"
      ]
     },
     "execution_count": 58,
     "metadata": {},
     "output_type": "execute_result"
    }
   ],
   "source": [
    "hi=g**2/(2*np.pi*(fr-fq))\n",
    "hi/Mhz"
   ]
  },
  {
   "cell_type": "code",
   "execution_count": null,
   "metadata": {},
   "outputs": [],
   "source": []
  },
  {
   "cell_type": "markdown",
   "metadata": {},
   "source": [
    "## Qubit Frequencies"
   ]
  },
  {
   "cell_type": "code",
   "execution_count": 3,
   "metadata": {},
   "outputs": [],
   "source": [
    "j=0.5e-3"
   ]
  },
  {
   "cell_type": "code",
   "execution_count": 29,
   "metadata": {},
   "outputs": [],
   "source": [
    "f1=4.5\n",
    "f2=4.7\n",
    "fmin=4\n",
    "fmax=10\n",
    "Ec=0.265"
   ]
  },
  {
   "cell_type": "code",
   "execution_count": 30,
   "metadata": {},
   "outputs": [
    {
     "data": {
      "text/plain": [
       "(10.710011792452828, 11.627936320754717)"
      ]
     },
     "execution_count": 30,
     "metadata": {},
     "output_type": "execute_result"
    }
   ],
   "source": [
    "Ejf(f1,Ec),Ejf(f2,Ec)"
   ]
  },
  {
   "cell_type": "code",
   "execution_count": 31,
   "metadata": {},
   "outputs": [
    {
     "data": {
      "text/plain": [
       "(58.673363375511144, 41.3979053902528)"
      ]
     },
     "execution_count": 31,
     "metadata": {},
     "output_type": "execute_result"
    }
   ],
   "source": [
    "(I(fmin,Ec)+I(fmax,Ec))/2,(I(fmax,Ec)-I(fmin,Ec))/2"
   ]
  },
  {
   "cell_type": "code",
   "execution_count": 32,
   "metadata": {},
   "outputs": [
    {
     "data": {
      "text/plain": [
       "(391.155755836741, 275.0)"
      ]
     },
     "execution_count": 32,
     "metadata": {},
     "output_type": "execute_result"
    }
   ],
   "source": [
    "(I(fmin,Ec)+I(fmax,Ec))/2/j/300,(I(fmax,Ec)-I(fmin,Ec))/2/j//300"
   ]
  },
  {
   "cell_type": "code",
   "execution_count": 33,
   "metadata": {},
   "outputs": [
    {
     "data": {
      "text/plain": [
       "(215.6340345066305, 234.1154118613981)"
      ]
     },
     "execution_count": 33,
     "metadata": {},
     "output_type": "execute_result"
    }
   ],
   "source": [
    "I(f1,Ec)/j/200,I(f2,Ec)/j/200"
   ]
  },
  {
   "cell_type": "code",
   "execution_count": 34,
   "metadata": {},
   "outputs": [],
   "source": [
    "Sl=200*215\n",
    "Sr=200*234\n",
    "S2=300*391\n",
    "S1=300*275"
   ]
  },
  {
   "cell_type": "code",
   "execution_count": 35,
   "metadata": {},
   "outputs": [
    {
     "data": {
      "text/plain": [
       "1.4218181818181819"
      ]
     },
     "execution_count": 35,
     "metadata": {},
     "output_type": "execute_result"
    }
   ],
   "source": [
    "S2/S1"
   ]
  },
  {
   "cell_type": "code",
   "execution_count": 36,
   "metadata": {},
   "outputs": [
    {
     "data": {
      "text/plain": [
       "(21.5, 23.400000000000002, 41.25, 58.65)"
      ]
     },
     "execution_count": 36,
     "metadata": {},
     "output_type": "execute_result"
    }
   ],
   "source": [
    "Il=j*Sl\n",
    "Ir=j*Sr\n",
    "I1=j*S1\n",
    "I2=j*S2\n",
    "Il,Ir,I1,I2"
   ]
  },
  {
   "cell_type": "markdown",
   "metadata": {},
   "source": [
    "## For two-qubit gates"
   ]
  },
  {
   "cell_type": "code",
   "execution_count": null,
   "metadata": {},
   "outputs": [],
   "source": [
    "w_1=f\n",
    "w_2=6.51e3\n",
    "w_c=7.026e3\n",
    "g=70\n",
    "J=(g**2/2)*(1/(w_c-w_1)+1/(w_c-w_2))\n",
    "delta=0.265*1e3\n",
    "delta12=np.abs(w_2-w_1)\n",
    "zz=-2*(2*delta)/((delta12-delta)*(delta12+delta))*J**2\n",
    "zx = J/delta12*delta/(delta+delta12)\n",
    "def coupl(w_c):\n",
    "  w_1=7.01e3\n",
    "  w_2=6.516e3\n",
    "  g=70\n",
    "  J=(g**2/2)*(1/(w_c-w_1)+1/(w_c-w_2))\n",
    "  delta=0.265*1e3\n",
    "  delta12=np.abs(w_2-w_1)\n",
    "  zz=-2*(2*delta)/((delta12-delta)*(delta12+delta))*J**2\n",
    "  zx = J/delta12*delta/(delta+delta12)\n",
    "  return J,zz,zx\n",
    "J,zx,zz"
   ]
  },
  {
   "cell_type": "code",
   "execution_count": null,
   "metadata": {},
   "outputs": [],
   "source": []
  }
 ],
 "metadata": {
  "kernelspec": {
   "display_name": "Python 3",
   "language": "python",
   "name": "python3"
  },
  "language_info": {
   "codemirror_mode": {
    "name": "ipython",
    "version": 3
   },
   "file_extension": ".py",
   "mimetype": "text/x-python",
   "name": "python",
   "nbconvert_exporter": "python",
   "pygments_lexer": "ipython3",
   "version": "3.7.3"
  }
 },
 "nbformat": 4,
 "nbformat_minor": 2
}
