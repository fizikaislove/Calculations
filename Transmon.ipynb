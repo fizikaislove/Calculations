{
 "cells": [
  {
   "cell_type": "markdown",
   "metadata": {},
   "source": [
    "## Constants"
   ]
  },
  {
   "cell_type": "code",
   "execution_count": 1,
   "metadata": {},
   "outputs": [],
   "source": [
    "import numpy as np\n",
    "from scipy.constants import hbar,h,e,c\n",
    "F0=2.0678e-15"
   ]
  },
  {
   "cell_type": "code",
   "execution_count": 2,
   "metadata": {},
   "outputs": [],
   "source": [
    "e_eff=(11.45+1)/2## for all calculations"
   ]
  },
  {
   "cell_type": "code",
   "execution_count": 3,
   "metadata": {},
   "outputs": [],
   "source": [
    "Mhz=(2*np.pi*1e6)## divide on it to obtain value in mhz"
   ]
  },
  {
   "cell_type": "markdown",
   "metadata": {},
   "source": [
    "## Resonator properties"
   ]
  },
  {
   "cell_type": "markdown",
   "metadata": {},
   "source": [
    "$$\\kappa = \\frac{\\omega_r}{2Q}=\\frac{\\pi f_r}{Q}$$ in radians per second and the envelope of oscillation decays proportional to $$e^{-\\kappa t} $$  for energy multiply by two ( in comparison with Koch paper, i found kappa should be calculated for energy relaxation)\n"
   ]
  },
  {
   "cell_type": "code",
   "execution_count": 4,
   "metadata": {},
   "outputs": [
    {
     "data": {
      "text/plain": [
       "(146.91225516174953, 1.0833333333333335)"
      ]
     },
     "execution_count": 4,
     "metadata": {},
     "output_type": "execute_result"
    }
   ],
   "source": [
    "fr=6.5e9\n",
    "Q=6000\n",
    "k=2*np.pi*fr/Q \n",
    "1/k*1e9 , k/Mhz"
   ]
  },
  {
   "cell_type": "markdown",
   "metadata": {},
   "source": [
    "### frequency shift due to end capacitance"
   ]
  },
  {
   "cell_type": "code",
   "execution_count": 5,
   "metadata": {},
   "outputs": [
    {
     "data": {
      "text/plain": [
       "(47.57767499999999, 0.3031545093091715)"
      ]
     },
     "execution_count": 5,
     "metadata": {},
     "output_type": "execute_result"
    }
   ],
   "source": [
    "# Cclaw=52e-3#pF\n",
    "# Cclaw=7.3416e-3*e_eff#pF\n",
    "Cclaw=7.643e-3*e_eff#pF\n",
    "Cl_r=156.942#pF/m\n",
    "Leff_add=Cclaw/Cl_r\n",
    "Cclaw*1e3,Leff_add*1e3 ## add it to open end"
   ]
  },
  {
   "cell_type": "markdown",
   "metadata": {},
   "source": [
    "### coupling between resonator and qubit"
   ]
  },
  {
   "cell_type": "code",
   "execution_count": 6,
   "metadata": {},
   "outputs": [
    {
     "data": {
      "text/plain": [
       "(2.2690125, 125.93175, 50.051683050895036)"
      ]
     },
     "execution_count": 6,
     "metadata": {},
     "output_type": "execute_result"
    }
   ],
   "source": [
    "fq=4.1e9\n",
    "Zr=56.3\n",
    "# Ccr=0.3656e-15*e_eff\n",
    "# Cq=18.56e-15*e_eff\n",
    "Ccr=0.3645e-15*e_eff\n",
    "Cq=20.23e-15*e_eff\n",
    "Cr=1/(2*np.pi*fr*Zr)\n",
    "g=2*np.pi*Ccr/np.sqrt(Cr*Cq)*np.sqrt(fr*fq)\n",
    "Ccr*1e15,Cq*1e15,g/Mhz"
   ]
  },
  {
   "cell_type": "markdown",
   "metadata": {},
   "source": [
    "### dispersion shift"
   ]
  },
  {
   "cell_type": "code",
   "execution_count": 7,
   "metadata": {},
   "outputs": [
    {
     "data": {
      "text/plain": [
       "1.043821240094689"
      ]
     },
     "execution_count": 7,
     "metadata": {},
     "output_type": "execute_result"
    }
   ],
   "source": [
    "fq=4.1e9\n",
    "hi=g**2/(2*np.pi*(fr-fq))\n",
    "hi/Mhz"
   ]
  },
  {
   "cell_type": "markdown",
   "metadata": {},
   "source": [
    "### Purcell rate"
   ]
  },
  {
   "cell_type": "code",
   "execution_count": 8,
   "metadata": {},
   "outputs": [
    {
     "data": {
      "text/plain": [
       "337.78716014268315"
      ]
     },
     "execution_count": 8,
     "metadata": {},
     "output_type": "execute_result"
    }
   ],
   "source": [
    "T=(1/k)*(2*np.pi*(fq-fr)/g)**2\n",
    "T*1e6"
   ]
  },
  {
   "cell_type": "markdown",
   "metadata": {},
   "source": [
    "## Qubit Frequencies"
   ]
  },
  {
   "cell_type": "code",
   "execution_count": 9,
   "metadata": {},
   "outputs": [],
   "source": [
    "def I(f,Ec):\n",
    "    Ej=Ejf(f,Ec)\n",
    "    I=Ej*2*np.pi/F0*h*1e18\n",
    "    return I\n",
    "def Ejf(f,Ec):\n",
    "    Ej=(f+Ec)**2/(8*Ec)\n",
    "    return Ej\n",
    "def Eji(I):\n",
    "    return I*F0/(2*np.pi)/1e9/h/1e9\n",
    "def f(Ej,Ec):\n",
    "    return np.sqrt(8*Ej*Ec)-Ec\n",
    "def Ec(C):\n",
    "    return e**2/(2*C)/h/1e9"
   ]
  },
  {
   "cell_type": "code",
   "execution_count": 10,
   "metadata": {},
   "outputs": [],
   "source": [
    "j=0.5e-3"
   ]
  },
  {
   "cell_type": "code",
   "execution_count": 11,
   "metadata": {},
   "outputs": [
    {
     "data": {
      "text/plain": [
       "0.15381529540446717"
      ]
     },
     "execution_count": 11,
     "metadata": {},
     "output_type": "execute_result"
    }
   ],
   "source": [
    "Ec(Cq)"
   ]
  },
  {
   "cell_type": "code",
   "execution_count": 12,
   "metadata": {},
   "outputs": [
    {
     "data": {
      "text/plain": [
       "0.15381529540446717"
      ]
     },
     "execution_count": 12,
     "metadata": {},
     "output_type": "execute_result"
    }
   ],
   "source": [
    "# f1=4.5\n",
    "# f2=4.7\n",
    "fmin=4.1\n",
    "fmax=4.8\n",
    "E_c=Ec(Cq)\n",
    "E_c"
   ]
  },
  {
   "cell_type": "code",
   "execution_count": 13,
   "metadata": {},
   "outputs": [
    {
     "data": {
      "text/plain": [
       "(14.705092006483468, 19.942982520409455)"
      ]
     },
     "execution_count": 13,
     "metadata": {},
     "output_type": "execute_result"
    }
   ],
   "source": [
    "Ejf(fmin,E_c),Ejf(fmax,E_c)"
   ]
  },
  {
   "cell_type": "code",
   "execution_count": 14,
   "metadata": {},
   "outputs": [
    {
     "data": {
      "text/plain": [
       "(34.8799994010522, 5.272951541555663)"
      ]
     },
     "execution_count": 14,
     "metadata": {},
     "output_type": "execute_result"
    }
   ],
   "source": [
    "(I(fmin,E_c)+I(fmax,E_c))/2,(I(fmax,E_c)-I(fmin,E_c))/2"
   ]
  },
  {
   "cell_type": "code",
   "execution_count": 15,
   "metadata": {},
   "outputs": [
    {
     "data": {
      "text/plain": [
       "(279.03999520841757, 105.45903083111327)"
      ]
     },
     "execution_count": 15,
     "metadata": {},
     "output_type": "execute_result"
    }
   ],
   "source": [
    "(I(fmin,E_c)+I(fmax,E_c))/2/j/250,(I(fmax,E_c)-I(fmin,E_c))/2/j/100"
   ]
  },
  {
   "cell_type": "markdown",
   "metadata": {},
   "source": [
    "### Real critical current"
   ]
  },
  {
   "cell_type": "code",
   "execution_count": 16,
   "metadata": {},
   "outputs": [],
   "source": [
    "# S2=250*257\n",
    "# S1=100*97\n",
    "S2=250*279\n",
    "S1=100*105"
   ]
  },
  {
   "cell_type": "code",
   "execution_count": 17,
   "metadata": {},
   "outputs": [
    {
     "data": {
      "text/plain": [
       "(5.25, 34.875)"
      ]
     },
     "execution_count": 17,
     "metadata": {},
     "output_type": "execute_result"
    }
   ],
   "source": [
    "# I1=j*S1\n",
    "# I2=j*S2\n",
    "I1=j*S1\n",
    "I2=j*S2\n",
    "I1,I2"
   ]
  },
  {
   "cell_type": "code",
   "execution_count": 18,
   "metadata": {},
   "outputs": [
    {
     "data": {
      "text/plain": [
       "(4.101289448340075, 4.7982754952161235)"
      ]
     },
     "execution_count": 18,
     "metadata": {},
     "output_type": "execute_result"
    }
   ],
   "source": [
    "f(Eji(I2-I1),Ec(Cq)),f(Eji(I1+I2),Ec(Cq))"
   ]
  },
  {
   "cell_type": "markdown",
   "metadata": {},
   "source": [
    "### coupling between qubits"
   ]
  },
  {
   "cell_type": "code",
   "execution_count": 22,
   "metadata": {},
   "outputs": [
    {
     "data": {
      "text/plain": [
       "(57.59861591695502, 20.4695996045477)"
      ]
     },
     "execution_count": 22,
     "metadata": {},
     "output_type": "execute_result"
    }
   ],
   "source": [
    "fq1=4.1e9\n",
    "fq2=fq1\n",
    "Ccq1=0.2842e-15*e_eff# for d=5mkm\n",
    "Ccq2=0.101e-15*e_eff# for d=30mkm\n",
    "Cq1=Cq\n",
    "Cq2=Cq1\n",
    "g1=2*np.pi*Ccq1/np.sqrt(Cq1*Cq2)*np.sqrt(fq1*fq2)\n",
    "g2=2*np.pi*Ccq2/np.sqrt(Cq1*Cq2)*np.sqrt(fq1*fq2)\n",
    "g1/Mhz,g2/Mhz"
   ]
  },
  {
   "cell_type": "markdown",
   "metadata": {},
   "source": [
    "### Qubit-drive relaxation"
   ]
  },
  {
   "cell_type": "code",
   "execution_count": 56,
   "metadata": {},
   "outputs": [
    {
     "data": {
      "text/plain": [
       "5733.822083124015"
      ]
     },
     "execution_count": 56,
     "metadata": {},
     "output_type": "execute_result"
    }
   ],
   "source": [
    "Cc=0.0056716e-15*e_eff\n",
    "Cc=60e-18\n",
    "Cq=81e-15\n",
    "w=5e9# in Ghz\n",
    "Z=50\n",
    "# R=1/((w*Cc)**2)/Z\n",
    "T1=(Cc+Cq)/(Z*(w*w*Cc*Cc)*np.pi)\n",
    "T1*1e6#in mcs"
   ]
  },
  {
   "cell_type": "markdown",
   "metadata": {},
   "source": [
    "## For two-qubit gates\n",
    "everything you should know about simple two-qubit gates you can find in Skriptbuch 2013 "
   ]
  },
  {
   "cell_type": "code",
   "execution_count": 28,
   "metadata": {},
   "outputs": [
    {
     "data": {
      "text/plain": [
       "(10.782544774124567, 1.6758793930457538, 2.120242032075029)"
      ]
     },
     "execution_count": 28,
     "metadata": {},
     "output_type": "execute_result"
    }
   ],
   "source": [
    "# everything in megahertz\n",
    "w_1=6.62e3\n",
    "w_2=6.51e3\n",
    "w_c=7.026e3\n",
    "g_q_c=70\n",
    "delta=0.265*1e3\n",
    "delta12=np.abs(w_2-w_1)\n",
    "#coupling through a quantum bus two-photon virtual coupling rate J00 page(305)\n",
    "J=(g_q_c**2/2)*(1/(w_c-w_1)+1/(w_c-w_2))\n",
    "## for ISWAP gatw we start with the qubit veru far apart to provide J<<delta12 interaction is off\n",
    "## tune them into resonance and obtain |01>+<10| with the angle=J*time and angle=pi/4 for sqrt(ISWAP)and pi/2 for ISWAP\n",
    "zz=-2*(2*delta)/((delta12-delta)*(delta12+delta))*J**2 ## here J is a direct coupling or through a quantum bus \n",
    "## zz = E11-E10-E01 angle=J*time and angle=pi for CZ\n",
    "## The higher level does not have to be used in an adiabatic way, instead we could suddenly\n",
    "##tune the qubits into the point delta=+-delta12 and |11> will swap with |02> and |02> (like ISWAP) and when it comes back\n",
    "## we will obtain an additional phase -1 page(309)\n",
    "zx = (J/delta12)*delta/(delta-delta12) ## they said that we can make ZZ very low just by placing them far a part, \n",
    "##or we can use additional echo pulse scheme to refocuse this interaction page(311-313)\n",
    "## delta>>delta12 to get ZX with small IX rotation they differ by factor delta12/delta\n",
    "## this gate has complex calibration and  amplitude dependence \n",
    "zx_amp=10##in mhz already. also we should multiply zx on drive amplitude(Raby_freq)\n",
    "J,zx*zx_amp,zz"
   ]
  },
  {
   "cell_type": "code",
   "execution_count": null,
   "metadata": {},
   "outputs": [],
   "source": []
  },
  {
   "cell_type": "markdown",
   "metadata": {},
   "source": [
    "### For Q"
   ]
  },
  {
   "cell_type": "code",
   "execution_count": null,
   "metadata": {},
   "outputs": [],
   "source": []
  },
  {
   "cell_type": "code",
   "execution_count": 4,
   "metadata": {},
   "outputs": [
    {
     "data": {
      "text/plain": [
       "-0.11745053409967654"
      ]
     },
     "execution_count": 4,
     "metadata": {},
     "output_type": "execute_result"
    }
   ],
   "source": [
    "import numpy as np\n",
    "c=299792458\n",
    "vl=c/np.sqrt(e_eff)\n",
    "fr=7.2e9\n",
    "lc=0.5/1e3\n",
    "lo=0.689/1e3\n",
    "x=1362/1e6\n",
    "psi=2*np.pi*(lc+2*lo)*fr/vl\n",
    "theta=2*np.pi*lc*fr/vl\n",
    "omega=2*np.pi*fr/vl*x\n",
    "k=(1+np.cos(psi+theta)-np.cos(theta-psi)-np.cos(2*omega-psi+theta))\n",
    "k, 4400"
   ]
  },
  {
   "cell_type": "code",
   "execution_count": 18,
   "metadata": {},
   "outputs": [
    {
     "data": {
      "text/plain": [
       "(-0.09102193575496298, 4400)"
      ]
     },
     "execution_count": 18,
     "metadata": {},
     "output_type": "execute_result"
    }
   ],
   "source": [
    "import numpy as np\n",
    "c=299792458\n",
    "vl=c/np.sqrt(e_eff)\n",
    "fr=7.4e9\n",
    "lc=0.45/1e3\n",
    "lo=0.689/1e3\n",
    "x=1366/1e6\n",
    "psi=2*np.pi*(lc+2*lo)*fr/vl\n",
    "theta=2*np.pi*lc*fr/vl\n",
    "omega=2*np.pi*fr/vl*x\n",
    "k=(1+np.cos(psi+theta)-np.cos(theta-psi)-np.cos(2*omega-psi+theta))\n",
    "k, 4400"
   ]
  },
  {
   "cell_type": "code",
   "execution_count": 19,
   "metadata": {},
   "outputs": [
    {
     "data": {
      "text/plain": [
       "0.6360069029655796"
      ]
     },
     "execution_count": 19,
     "metadata": {},
     "output_type": "execute_result"
    }
   ],
   "source": [
    "np.cos(psi+theta)"
   ]
  },
  {
   "cell_type": "code",
   "execution_count": 20,
   "metadata": {},
   "outputs": [
    {
     "data": {
      "text/plain": [
       "0.8611726922384668"
      ]
     },
     "execution_count": 20,
     "metadata": {},
     "output_type": "execute_result"
    }
   ],
   "source": [
    "np.cos(theta-psi)"
   ]
  },
  {
   "cell_type": "code",
   "execution_count": 21,
   "metadata": {},
   "outputs": [
    {
     "data": {
      "text/plain": [
       "0.8658561464820759"
      ]
     },
     "execution_count": 21,
     "metadata": {},
     "output_type": "execute_result"
    }
   ],
   "source": [
    "np.cos(2*omega-psi+theta)"
   ]
  },
  {
   "cell_type": "code",
   "execution_count": null,
   "metadata": {},
   "outputs": [],
   "source": []
  }
 ],
 "metadata": {
  "kernelspec": {
   "display_name": "Python 3",
   "language": "python",
   "name": "python3"
  },
  "language_info": {
   "codemirror_mode": {
    "name": "ipython",
    "version": 3
   },
   "file_extension": ".py",
   "mimetype": "text/x-python",
   "name": "python",
   "nbconvert_exporter": "python",
   "pygments_lexer": "ipython3",
   "version": "3.7.3"
  }
 },
 "nbformat": 4,
 "nbformat_minor": 2
}
